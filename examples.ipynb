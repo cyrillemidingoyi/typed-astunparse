{
 "cells": [
  {
   "cell_type": "code",
   "execution_count": null,
   "metadata": {
    "collapsed": false,
    "scrolled": false
   },
   "outputs": [],
   "source": [
    "import os\n",
    "\n",
    "import typed_ast.ast3\n",
    "import typed_astunparse"
   ]
  },
  {
   "cell_type": "code",
   "execution_count": null,
   "metadata": {
    "collapsed": false,
    "scrolled": false
   },
   "outputs": [],
   "source": [
    "code = 'my_string = None # type: str'\n",
    "roundtrip = typed_astunparse.unparse(typed_ast.ast3.parse(code))\n",
    "print(roundtrip)"
   ]
  },
  {
   "cell_type": "code",
   "execution_count": null,
   "metadata": {
    "collapsed": false
   },
   "outputs": [],
   "source": [
    "code = \"def negation(arg): # type: (bool) -> bool\\n    return (not arg)\"\n",
    "roundtrip = typed_astunparse.unparse(typed_ast.ast3.parse(code))\n",
    "print(roundtrip)"
   ]
  },
  {
   "cell_type": "code",
   "execution_count": null,
   "metadata": {
    "collapsed": false
   },
   "outputs": [],
   "source": [
    "code = \"with open('setup.py') as f: # type: typing.io.TextIO\\n    print(f.read())\"\n",
    "roundtrip = typed_astunparse.unparse(typed_ast.ast3.parse(code))\n",
    "print(roundtrip)"
   ]
  },
  {
   "cell_type": "code",
   "execution_count": null,
   "metadata": {
    "collapsed": false,
    "scrolled": false
   },
   "outputs": [],
   "source": [
    "with open(os.path.join('typed_astunparse', '__init__.py')) as f:\n",
    "    tree = typed_ast.ast3.parse(f.read())\n",
    "print(typed_astunparse.dump(tree))\n",
    "print(typed_astunparse.unparse(tree))"
   ]
  },
  {
   "cell_type": "code",
   "execution_count": null,
   "metadata": {
    "collapsed": false,
    "scrolled": false
   },
   "outputs": [],
   "source": [
    "with open('setup.py') as f:\n",
    "    tree = typed_ast.ast3.parse(f.read())\n",
    "print(typed_astunparse.dump(tree))\n",
    "print(typed_astunparse.unparse(tree))"
   ]
  },
  {
   "cell_type": "code",
   "execution_count": null,
   "metadata": {
    "collapsed": false
   },
   "outputs": [],
   "source": [
    "code = \"a = 0\"\n",
    "tree = typed_ast.ast3.parse(code)\n",
    "print(typed_astunparse.dump(tree))"
   ]
  },
  {
   "cell_type": "code",
   "execution_count": null,
   "metadata": {
    "collapsed": false
   },
   "outputs": [],
   "source": [
    "code = \"a = 0 # type:\"\n",
    "tree = typed_ast.ast3.parse(code)\n",
    "print(typed_astunparse.dump(tree))"
   ]
  },
  {
   "cell_type": "code",
   "execution_count": null,
   "metadata": {
    "collapsed": false
   },
   "outputs": [],
   "source": [
    "code = \"a = 0 # type: int\"\n",
    "tree = typed_ast.ast3.parse(code)\n",
    "print(typed_astunparse.dump(tree))"
   ]
  }
 ],
 "metadata": {
  "kernelspec": {
   "display_name": "Python 3",
   "language": "python",
   "name": "python3"
  },
  "language_info": {
   "codemirror_mode": {
    "name": "ipython",
    "version": 3
   },
   "file_extension": ".py",
   "mimetype": "text/x-python",
   "name": "python",
   "nbconvert_exporter": "python",
   "pygments_lexer": "ipython3",
   "version": "3.5.1"
  }
 },
 "nbformat": 4,
 "nbformat_minor": 0
}
