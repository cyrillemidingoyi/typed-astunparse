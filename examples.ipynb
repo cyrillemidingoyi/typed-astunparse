{
 "cells": [
  {
   "cell_type": "code",
   "execution_count": 1,
   "metadata": {
    "scrolled": false
   },
   "outputs": [],
   "source": [
    "import pathlib\n",
    "\n",
    "import typed_ast.ast3\n",
    "import typed_astunparse"
   ]
  },
  {
   "cell_type": "code",
   "execution_count": 2,
   "metadata": {
    "scrolled": false
   },
   "outputs": [
    {
     "name": "stdout",
     "output_type": "stream",
     "text": [
      "\n",
      "my_string = None  # type: str\n",
      "\n"
     ]
    }
   ],
   "source": [
    "code = 'my_string = None # type: str'\n",
    "roundtrip = typed_astunparse.unparse(typed_ast.ast3.parse(code))\n",
    "print(roundtrip)"
   ]
  },
  {
   "cell_type": "code",
   "execution_count": 3,
   "metadata": {},
   "outputs": [
    {
     "name": "stdout",
     "output_type": "stream",
     "text": [
      "\n",
      "\n",
      "def negation(arg):\n",
      "    # type: (bool) -> bool\n",
      "    return (not arg)\n",
      "\n"
     ]
    }
   ],
   "source": [
    "code = \"def negation(arg): # type: (bool) -> bool\\n    return (not arg)\"\n",
    "roundtrip = typed_astunparse.unparse(typed_ast.ast3.parse(code))\n",
    "print(roundtrip)"
   ]
  },
  {
   "cell_type": "code",
   "execution_count": 4,
   "metadata": {},
   "outputs": [
    {
     "name": "stdout",
     "output_type": "stream",
     "text": [
      "\n",
      "with open('setup.py') as f:  # type: typing.io.TextIO\n",
      "    print(f.read())\n",
      "\n"
     ]
    }
   ],
   "source": [
    "code = \"with open('setup.py') as f: # type: typing.io.TextIO\\n    print(f.read())\"\n",
    "roundtrip = typed_astunparse.unparse(typed_ast.ast3.parse(code))\n",
    "print(roundtrip)"
   ]
  },
  {
   "cell_type": "code",
   "execution_count": 5,
   "metadata": {
    "scrolled": false
   },
   "outputs": [
    {
     "name": "stdout",
     "output_type": "stream",
     "text": [
      "\n",
      "'This is \"__init__.py\" file for \"typed_astunparse\" package.\\n\\nfunctions: unparse, dump\\n'\n",
      "import ast\n",
      "import typing as t\n",
      "import typed_ast.ast3\n",
      "from six.moves import cStringIO\n",
      "from .unparser import Unparser\n",
      "from .printer import Printer\n",
      "from ._version import VERSION\n",
      "__version__ = VERSION\n",
      "\n",
      "def unparse(tree: t.Union[(ast.AST, typed_ast.ast3.AST)]) -> str:\n",
      "    'Unparse the abstract syntax tree into a str.\\n\\n    Behave just like astunparse.unparse(tree), but handle trees which are typed, untyped, or mixed.\\n    In other words, a mixture of ast.AST-based and typed_ast.ast3-based nodes will be unparsed.\\n    '\n",
      "    stream = cStringIO()\n",
      "    Unparser(tree, file=stream)\n",
      "    return stream.getvalue()\n",
      "\n",
      "def dump(tree: t.Union[(ast.AST, typed_ast.ast3.AST)], annotate_fields: bool=True, include_attributes: bool=False) -> str:\n",
      "    'Behave just like astunparse.dump(tree), but handle typed_ast.ast3-based trees.'\n",
      "    stream = cStringIO()\n",
      "    Printer(file=stream, annotate_fields=annotate_fields, include_attributes=include_attributes).visit(tree)\n",
      "    return stream.getvalue()\n",
      "__all__ = ['unparse', 'dump']\n",
      "\n"
     ]
    }
   ],
   "source": [
    "with pathlib.Path('typed_astunparse', '__init__.py').open() as f:\n",
    "    tree = typed_ast.ast3.parse(f.read())\n",
    "#print(typed_astunparse.dump(tree))  # long output\n",
    "print(typed_astunparse.unparse(tree))"
   ]
  },
  {
   "cell_type": "code",
   "execution_count": 6,
   "metadata": {
    "scrolled": false
   },
   "outputs": [
    {
     "name": "stdout",
     "output_type": "stream",
     "text": [
      "\n",
      "'This is setup.py file for typed-astunparse.'\n",
      "import setup_boilerplate\n",
      "\n",
      "class Package(setup_boilerplate.Package):\n",
      "    'Package metadata.'\n",
      "    name = 'typed-astunparse'\n",
      "    description = 'typed-astunparse is to typed-ast as astunparse is to ast'\n",
      "    download_url = 'https://github.com/mbdevpl/typed-astunparse'\n",
      "    classifiers = ['Development Status :: 4 - Beta', 'Environment :: Console', 'Intended Audience :: Developers', 'Intended Audience :: Science/Research', 'License :: OSI Approved :: Apache Software License', 'Natural Language :: English', 'Operating System :: MacOS :: MacOS X', 'Operating System :: Microsoft :: Windows', 'Operating System :: POSIX :: Linux', 'Programming Language :: Python :: 3.4', 'Programming Language :: Python :: 3.5', 'Programming Language :: Python :: 3.6', 'Programming Language :: Python :: 3.7', 'Programming Language :: Python :: 3 :: Only', 'Programming Language :: Python :: Implementation :: CPython', 'Topic :: Education', 'Topic :: Scientific/Engineering', 'Topic :: Software Development :: Code Generators', 'Topic :: Software Development :: Compilers', 'Topic :: Software Development :: Pre-processors', 'Topic :: Utilities']\n",
      "    keywords = ['ast', 'unparsing', 'pretty printing']\n",
      "if (__name__ == '__main__'):\n",
      "    Package.setup()\n",
      "\n"
     ]
    }
   ],
   "source": [
    "with pathlib.Path('setup.py').open() as f:\n",
    "    tree = typed_ast.ast3.parse(f.read())\n",
    "#print(typed_astunparse.dump(tree))  # long output\n",
    "print(typed_astunparse.unparse(tree))"
   ]
  },
  {
   "cell_type": "code",
   "execution_count": 7,
   "metadata": {
    "scrolled": true
   },
   "outputs": [
    {
     "name": "stdout",
     "output_type": "stream",
     "text": [
      "Module(\n",
      "  body=[Assign(\n",
      "    targets=[Name(\n",
      "      id='a',\n",
      "      ctx=Store())],\n",
      "    value=Num(n=0),\n",
      "    type_comment=None)],\n",
      "  type_ignores=[])\n"
     ]
    }
   ],
   "source": [
    "code = \"a = 0\"\n",
    "tree = typed_ast.ast3.parse(code)\n",
    "print(typed_astunparse.dump(tree))"
   ]
  },
  {
   "cell_type": "code",
   "execution_count": 8,
   "metadata": {
    "scrolled": true
   },
   "outputs": [
    {
     "name": "stdout",
     "output_type": "stream",
     "text": [
      "Module(\n",
      "  body=[Assign(\n",
      "    targets=[Name(\n",
      "      id='a',\n",
      "      ctx=Store())],\n",
      "    value=Num(n=0),\n",
      "    type_comment='')],\n",
      "  type_ignores=[])\n"
     ]
    }
   ],
   "source": [
    "code = \"a = 0 # type:\"\n",
    "tree = typed_ast.ast3.parse(code)\n",
    "print(typed_astunparse.dump(tree))"
   ]
  },
  {
   "cell_type": "code",
   "execution_count": 9,
   "metadata": {},
   "outputs": [
    {
     "name": "stdout",
     "output_type": "stream",
     "text": [
      "Module(\n",
      "  body=[Assign(\n",
      "    targets=[Name(\n",
      "      id='a',\n",
      "      ctx=Store())],\n",
      "    value=Num(n=0),\n",
      "    type_comment='int')],\n",
      "  type_ignores=[])\n"
     ]
    }
   ],
   "source": [
    "code = \"a = 0 # type: int\"\n",
    "tree = typed_ast.ast3.parse(code)\n",
    "print(typed_astunparse.dump(tree))"
   ]
  }
 ],
 "metadata": {
  "kernelspec": {
   "display_name": "Python 3",
   "language": "python",
   "name": "python3"
  },
  "language_info": {
   "codemirror_mode": {
    "name": "ipython",
    "version": 3
   },
   "file_extension": ".py",
   "mimetype": "text/x-python",
   "name": "python",
   "nbconvert_exporter": "python",
   "pygments_lexer": "ipython3",
   "version": "3.6.6"
  }
 },
 "nbformat": 4,
 "nbformat_minor": 1
}
